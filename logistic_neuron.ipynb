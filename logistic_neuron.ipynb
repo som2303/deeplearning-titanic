{
  "nbformat": 4,
  "nbformat_minor": 0,
  "metadata": {
    "colab": {
      "name": "logistic_neuron.ipynb",
      "provenance": [],
      "authorship_tag": "ABX9TyOram8GQzfd6Pg6HO+WdOqR",
      "include_colab_link": true
    },
    "kernelspec": {
      "name": "python3",
      "display_name": "Python 3"
    },
    "language_info": {
      "name": "python"
    }
  },
  "cells": [
    {
      "cell_type": "markdown",
      "metadata": {
        "id": "view-in-github",
        "colab_type": "text"
      },
      "source": [
        "<a href=\"https://colab.research.google.com/github/som2303/deeplearning-titanic/blob/main/logistic_neuron.ipynb\" target=\"_parent\"><img src=\"https://colab.research.google.com/assets/colab-badge.svg\" alt=\"Open In Colab\"/></a>"
      ]
    },
    {
      "cell_type": "markdown",
      "metadata": {
        "id": "4XQ7tUSteyxf"
      },
      "source": [
        "# 문제 정의 : 타이타닉 사고가 일어났다고 했을 때 생존 여부 예측"
      ]
    },
    {
      "cell_type": "markdown",
      "metadata": {
        "id": "650_HN1nhCUJ"
      },
      "source": [
        "## 데이터 불러오기"
      ]
    },
    {
      "cell_type": "code",
      "metadata": {
        "id": "GfMTHUrRNql_"
      },
      "source": [
        "import pandas as pd\n",
        "import numpy as np\n",
        "import matplotlib.pyplot as plt"
      ],
      "execution_count": null,
      "outputs": []
    },
    {
      "cell_type": "code",
      "metadata": {
        "id": "nf_VX_FWbRkF"
      },
      "source": [
        "data = pd.read_csv('https://web.stanford.edu/class/archive/cs/cs109/cs109.1166/stuff/titanic.csv')"
      ],
      "execution_count": null,
      "outputs": []
    },
    {
      "cell_type": "code",
      "metadata": {
        "colab": {
          "base_uri": "https://localhost:8080/",
          "height": 200
        },
        "id": "X8Kq2YMNglZF",
        "outputId": "3fa93d12-f119-4760-b555-aa3e76331aaa"
      },
      "source": [
        "data.head(5)"
      ],
      "execution_count": null,
      "outputs": [
        {
          "output_type": "execute_result",
          "data": {
            "text/html": [
              "<div>\n",
              "<style scoped>\n",
              "    .dataframe tbody tr th:only-of-type {\n",
              "        vertical-align: middle;\n",
              "    }\n",
              "\n",
              "    .dataframe tbody tr th {\n",
              "        vertical-align: top;\n",
              "    }\n",
              "\n",
              "    .dataframe thead th {\n",
              "        text-align: right;\n",
              "    }\n",
              "</style>\n",
              "<table border=\"1\" class=\"dataframe\">\n",
              "  <thead>\n",
              "    <tr style=\"text-align: right;\">\n",
              "      <th></th>\n",
              "      <th>Survived</th>\n",
              "      <th>Pclass</th>\n",
              "      <th>Name</th>\n",
              "      <th>Sex</th>\n",
              "      <th>Age</th>\n",
              "      <th>Siblings/Spouses Aboard</th>\n",
              "      <th>Parents/Children Aboard</th>\n",
              "      <th>Fare</th>\n",
              "    </tr>\n",
              "  </thead>\n",
              "  <tbody>\n",
              "    <tr>\n",
              "      <th>0</th>\n",
              "      <td>0</td>\n",
              "      <td>3</td>\n",
              "      <td>Mr. Owen Harris Braund</td>\n",
              "      <td>male</td>\n",
              "      <td>22.0</td>\n",
              "      <td>1</td>\n",
              "      <td>0</td>\n",
              "      <td>7.2500</td>\n",
              "    </tr>\n",
              "    <tr>\n",
              "      <th>1</th>\n",
              "      <td>1</td>\n",
              "      <td>1</td>\n",
              "      <td>Mrs. John Bradley (Florence Briggs Thayer) Cum...</td>\n",
              "      <td>female</td>\n",
              "      <td>38.0</td>\n",
              "      <td>1</td>\n",
              "      <td>0</td>\n",
              "      <td>71.2833</td>\n",
              "    </tr>\n",
              "    <tr>\n",
              "      <th>2</th>\n",
              "      <td>1</td>\n",
              "      <td>3</td>\n",
              "      <td>Miss. Laina Heikkinen</td>\n",
              "      <td>female</td>\n",
              "      <td>26.0</td>\n",
              "      <td>0</td>\n",
              "      <td>0</td>\n",
              "      <td>7.9250</td>\n",
              "    </tr>\n",
              "    <tr>\n",
              "      <th>3</th>\n",
              "      <td>1</td>\n",
              "      <td>1</td>\n",
              "      <td>Mrs. Jacques Heath (Lily May Peel) Futrelle</td>\n",
              "      <td>female</td>\n",
              "      <td>35.0</td>\n",
              "      <td>1</td>\n",
              "      <td>0</td>\n",
              "      <td>53.1000</td>\n",
              "    </tr>\n",
              "    <tr>\n",
              "      <th>4</th>\n",
              "      <td>0</td>\n",
              "      <td>3</td>\n",
              "      <td>Mr. William Henry Allen</td>\n",
              "      <td>male</td>\n",
              "      <td>35.0</td>\n",
              "      <td>0</td>\n",
              "      <td>0</td>\n",
              "      <td>8.0500</td>\n",
              "    </tr>\n",
              "  </tbody>\n",
              "</table>\n",
              "</div>"
            ],
            "text/plain": [
              "   Survived  Pclass  ... Parents/Children Aboard     Fare\n",
              "0         0       3  ...                       0   7.2500\n",
              "1         1       1  ...                       0  71.2833\n",
              "2         1       3  ...                       0   7.9250\n",
              "3         1       1  ...                       0  53.1000\n",
              "4         0       3  ...                       0   8.0500\n",
              "\n",
              "[5 rows x 8 columns]"
            ]
          },
          "metadata": {},
          "execution_count": 16
        }
      ]
    },
    {
      "cell_type": "markdown",
      "metadata": {
        "id": "e16hE1dChbZU"
      },
      "source": [
        "*   Survived : 생존 여부(1/0)\n",
        "*   Pclass : 티켓 등급(1/2/3)\n",
        "*   Name : 이름\n",
        "*   Sex : 성별\n",
        "*   Age : 나이\n",
        "*   Siblings/Spouses Aboard : 함께 탑승한 형제, 배우자의 수\n",
        "*   Parents/Cildren Aboard : 함께 탑승한 부모, 자식의 수\n",
        "*   Fare : 탑승료"
      ]
    },
    {
      "cell_type": "code",
      "metadata": {
        "id": "E9Ro5gzYbd5C"
      },
      "source": [
        "target = data['Survived'] # 분류기준을 Survived로 설정\n",
        "y = np.array(target, dtype=np.int32)\n",
        "data.drop(labels=['Name', 'Survived'], axis=1, inplace=True) # 데이터의 특성과 관련 없는 'Name, Survived'삭제\n",
        "data['Sex'] = data['Sex'].map({'male':0,'female':1}) # 성별 분류를 male, female이 아닌 0과 1로 변환\n",
        "x= np.array(data, dtype=np.int32)"
      ],
      "execution_count": null,
      "outputs": []
    },
    {
      "cell_type": "code",
      "metadata": {
        "colab": {
          "base_uri": "https://localhost:8080/",
          "height": 278
        },
        "id": "IVfOGdswjVEq",
        "outputId": "5c77c647-a409-40e8-97be-fda91a07d072"
      },
      "source": [
        "plt.boxplot(x) # 데이터 분포 살펴보기\n",
        "plt.xlabel('Feature')\n",
        "plt.ylabel('Value')\n",
        "plt.show()"
      ],
      "execution_count": null,
      "outputs": [
        {
          "output_type": "display_data",
          "data": {
            "image/png": "[encoded data removed]",
            "text/plain": [
              "<Figure size 432x288 with 1 Axes>"
            ]
          },
          "metadata": {
            "needs_background": "light"
          }
        }
      ]
    },
    {
      "cell_type": "code",
      "metadata": {
        "id": "j-SAAE92OqV1"
      },
      "source": [
        "from sklearn.model_selection import train_test_split\n",
        "x_train, x_test, y_train, y_test = train_test_split(x, y, stratify = y, test_size=0.2,random_state=42)"
      ],
      "execution_count": null,
      "outputs": []
    },
    {
      "cell_type": "markdown",
      "metadata": {
        "id": "yADOFYi4gIEN"
      },
      "source": [
        "## Neuron 구현"
      ]
    },
    {
      "cell_type": "code",
      "metadata": {
        "id": "OSkjuh5yO0lZ"
      },
      "source": [
        "import sys\n",
        "class LogisticNeuron: \n",
        "  def init(self):\n",
        "    self.w=None \n",
        "    self.b=None\n",
        "\n",
        "  def fwpass(self,x):\n",
        "    z = np.sum(x*self.w) + self.b \n",
        "    return z\n",
        "\n",
        "  def bwpass(self, x, err): \n",
        "    w_grad=x*err\n",
        "    b_grad = 1*err \n",
        "    return w_grad,b_grad\n",
        "\n",
        "  def fit(self, x, y, epochs=100): \n",
        "    self.w = np.ones(x.shape[1]) \n",
        "    self.b=0\n",
        "    for i in range(epochs):\n",
        "      for x_i, y_i in zip(x, y): \n",
        "        z=self.fwpass(x_i)\n",
        "        # print(z)\n",
        "        a = self.activation(z) \n",
        "        err=-(y_i-a)\n",
        "        w_grad, b_grad = self.bwpass(x_i, err) \n",
        "        self.w-=w_grad\n",
        "        self.b-=b_grad\n",
        "\n",
        "  def activation(self,z):\n",
        "    z = np.clip(z, -100, None)\n",
        "    a=1/(1+np.exp(-z)) \n",
        "    return a\n",
        "\n",
        "  def predict(self,x):\n",
        "    z = [self.fwpass(x_i) for x_i in x] \n",
        "    a=self.activation(np.array(z))\n",
        "    return a>0.5 "
      ],
      "execution_count": null,
      "outputs": []
    },
    {
      "cell_type": "code",
      "metadata": {
        "colab": {
          "base_uri": "https://localhost:8080/"
        },
        "id": "Tgh_WwdCPZqY",
        "outputId": "87c30e57-4aae-44d0-b632-19dd58de16f5"
      },
      "source": [
        "neuron = LogisticNeuron() \n",
        "neuron.fit(x_train,y_train)\n",
        "acc=np.mean(neuron.predict(x_test)==y_test)\n",
        "acc"
      ],
      "execution_count": null,
      "outputs": [
        {
          "output_type": "execute_result",
          "data": {
            "text/plain": [
              "0.7696629213483146"
            ]
          },
          "metadata": {},
          "execution_count": 24
        }
      ]
    },
    {
      "cell_type": "markdown",
      "metadata": {
        "id": "hlqii22entP4"
      },
      "source": [
        "## sklearn의 metrics을 이용하여 모델의 성능 확인\n",
        "성능을 확인해 보았을 때 높은 수준은 아니지만 어느정도의 분류을 한다는 것을 확인 할 수 있다.\n",
        "이 결과를 통해 성별, 가족의 유무, 수입(탑승권 가격 등)이 생존에 영향을 미쳤음을 알 수 있다."
      ]
    },
    {
      "cell_type": "code",
      "metadata": {
        "colab": {
          "base_uri": "https://localhost:8080/"
        },
        "id": "_Z88Y9pNmYRF",
        "outputId": "d2eb9578-cb7e-4a84-add4-54c4759e0035"
      },
      "source": [
        "from sklearn.metrics import accuracy_score, recall_score, precision_score, f1_score\n",
        "guess = neuron.predict(x_test)\n",
        "print(accuracy_score(y_test, guess)) # 바르게 예측한 퍼센트\n",
        "print(recall_score(y_test, guess)) # 실제 True인 것을 True라고 예측할 퍼센트\n",
        "print(precision_score(y_test, guess)) # True라고 예측한 결과 중 실제 True인 퍼센트\n",
        "print(f1_score(y_test, guess)) #precision과 recall의 조화 평균"
      ],
      "execution_count": null,
      "outputs": [
        {
          "output_type": "stream",
          "name": "stdout",
          "text": [
            "0.7696629213483146\n",
            "0.5362318840579711\n",
            "0.8043478260869565\n",
            "0.6434782608695652\n"
          ]
        }
      ]
    }
  ]
}